{
 "cells": [
  {
   "cell_type": "markdown",
   "id": "851ec19e",
   "metadata": {},
   "source": [
    "# Introduction\n",
    "\n",
    "The USILaughs dataset has already all of the data segmented (4s) and pre-processed, so there is no reason to re-run it. However, the dataset contains data from both the left and right hands. For this study, we're going to focus only on data from the left hand (non-dominant for all participants in the USILaughs dataset)."
   ]
  },
  {
   "cell_type": "code",
   "execution_count": 6,
   "id": "72c1e822",
   "metadata": {},
   "outputs": [],
   "source": [
    "import numpy as np\n",
    "\n",
    "path: str = \"../data.nosync/usilaughs/EDA_segmented.npz\"\n",
    "data = np.load(path, allow_pickle=True)\n",
    "np.savez_compressed(\n",
    "    \"../data.nosync/usilaughs/data.npz\",\n",
    "    name=\"USILaghs\",\n",
    "    values=data[\"values_left\"],\n",
    "    labels=data[\"labels_left\"],\n",
    "    groups=data[\"groups_left\"],\n",
    ")"
   ]
  }
 ],
 "metadata": {
  "kernelspec": {
   "display_name": "pff",
   "language": "python",
   "name": "python3"
  },
  "language_info": {
   "codemirror_mode": {
    "name": "ipython",
    "version": 3
   },
   "file_extension": ".py",
   "mimetype": "text/x-python",
   "name": "python",
   "nbconvert_exporter": "python",
   "pygments_lexer": "ipython3",
   "version": "3.13.3"
  }
 },
 "nbformat": 4,
 "nbformat_minor": 5
}
