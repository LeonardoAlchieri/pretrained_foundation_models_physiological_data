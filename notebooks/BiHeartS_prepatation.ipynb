{
 "cells": [
  {
   "cell_type": "code",
   "execution_count": 8,
   "id": "8e56eb73",
   "metadata": {},
   "outputs": [],
   "source": [
    "import numpy as np\n",
    "\n",
    "path_to_data: str =  \"../data.nosync/bihearts/EDA_segmented_noart-3.npz\"\n",
    "data = np.load(path_to_data, allow_pickle=True)"
   ]
  },
  {
   "cell_type": "code",
   "execution_count": 9,
   "id": "9aa72db9",
   "metadata": {},
   "outputs": [],
   "source": [
    "np.savez_compressed(\n",
    "    \"../data.nosync/bihearts/data_left.npz\",\n",
    "    name=\"BiHeartS\",\n",
    "    values=data[\"values_left\"],\n",
    "    labels=data[\"labels_left\"],\n",
    "    groups=data[\"groups_left\"],\n",
    ")"
   ]
  },
  {
   "cell_type": "code",
   "execution_count": 10,
   "id": "d13b8ff7",
   "metadata": {},
   "outputs": [],
   "source": [
    "np.savez_compressed(\n",
    "    \"../data.nosync/bihearts/data_right.npz\",\n",
    "    name=\"BiHeartS\",\n",
    "    values=data[\"values_right\"],\n",
    "    labels=data[\"labels_right\"],\n",
    "    groups=data[\"groups_right\"],\n",
    ")"
   ]
  }
 ],
 "metadata": {
  "kernelspec": {
   "display_name": "pff",
   "language": "python",
   "name": "python3"
  },
  "language_info": {
   "codemirror_mode": {
    "name": "ipython",
    "version": 3
   },
   "file_extension": ".py",
   "mimetype": "text/x-python",
   "name": "python",
   "nbconvert_exporter": "python",
   "pygments_lexer": "ipython3",
   "version": "3.11.13"
  }
 },
 "nbformat": 4,
 "nbformat_minor": 5
}
