{
 "cells": [
  {
   "cell_type": "code",
   "execution_count": 1,
   "id": "a230b48a",
   "metadata": {},
   "outputs": [],
   "source": [
    "import numpy as np"
   ]
  },
  {
   "cell_type": "code",
   "execution_count": 2,
   "id": "d97e7008",
   "metadata": {},
   "outputs": [],
   "source": [
    "path: str = \"../data.nosync/usilaughs/data_left.npz\"\n",
    "data = np.load(path, allow_pickle=True)\n",
    "X = data[\"values\"]"
   ]
  },
  {
   "cell_type": "code",
   "execution_count": 3,
   "id": "2acd60fa",
   "metadata": {},
   "outputs": [
    {
     "name": "stdout",
     "output_type": "stream",
     "text": [
      "TimesFM v1.2.0. See https://github.com/google-research/timesfm/blob/master/README.md for updated APIs.\n",
      "Loaded Jax TimesFM.\n",
      "Loaded PyTorch TimesFM.\n"
     ]
    },
    {
     "data": {
      "application/vnd.jupyter.widget-view+json": {
       "model_id": "e0aeaf8dc71d45f98aed499565548e36",
       "version_major": 2,
       "version_minor": 0
      },
      "text/plain": [
       "Fetching 5 files:   0%|          | 0/5 [00:00<?, ?it/s]"
      ]
     },
     "metadata": {},
     "output_type": "display_data"
    }
   ],
   "source": [
    "import timesfm\n",
    "# For Torch\n",
    "tfm = timesfm.TimesFm(\n",
    "      hparams=timesfm.TimesFmHparams(\n",
    "          backend=\"cpu\",\n",
    "          per_core_batch_size=32,\n",
    "          horizon_len=128,\n",
    "          num_layers=50,\n",
    "        #   use_positional_embedding=False,\n",
    "          context_len=2048,\n",
    "      ),\n",
    "      checkpoint=timesfm.TimesFmCheckpoint(\n",
    "          huggingface_repo_id=\"google/timesfm-2.0-500m-pytorch\"),\n",
    "  )\n"
   ]
  },
  {
   "cell_type": "code",
   "execution_count": 4,
   "id": "89bb3689",
   "metadata": {},
   "outputs": [],
   "source": [
    "out = tfm.forecast(inputs=X[[0],...,0])"
   ]
  },
  {
   "cell_type": "code",
   "execution_count": 5,
   "id": "edb1145e",
   "metadata": {},
   "outputs": [
    {
     "name": "stdout",
     "output_type": "stream",
     "text": [
      "torch.Size([16, 128, 10])\n",
      "torch.Size([16, 128, 10])\n"
     ]
    }
   ],
   "source": [
    "print(out[0].shape) \n",
    "print(out[1].shape) "
   ]
  },
  {
   "cell_type": "code",
   "execution_count": 8,
   "id": "302795b1",
   "metadata": {},
   "outputs": [
    {
     "name": "stdout",
     "output_type": "stream",
     "text": [
      "tensor([[[1.1427, 1.1581, 1.1513,  ..., 1.1329, 1.1277, 1.1057],\n",
      "         [1.1413, 1.1439, 1.1403,  ..., 1.1417, 1.1336, 1.1096],\n",
      "         [1.1343, 1.1406, 1.1399,  ..., 1.1315, 1.1128, 1.0869],\n",
      "         ...,\n",
      "         [1.1768, 1.1317, 1.1568,  ..., 1.1907, 1.1862, 1.1644],\n",
      "         [1.1784, 1.1559, 1.1594,  ..., 1.1912, 1.1789, 1.1462],\n",
      "         [1.1844, 1.1447, 1.1481,  ..., 1.1954, 1.1858, 1.1634]],\n",
      "\n",
      "        [[1.1446, 1.1649, 1.1558,  ..., 1.1314, 1.1269, 1.1071],\n",
      "         [1.1412, 1.1493, 1.1439,  ..., 1.1373, 1.1306, 1.1084],\n",
      "         [1.1351, 1.1419, 1.1407,  ..., 1.1295, 1.1143, 1.0910],\n",
      "         ...,\n",
      "         [1.1814, 1.1431, 1.1621,  ..., 1.1965, 1.1934, 1.1718],\n",
      "         [1.1793, 1.1599, 1.1601,  ..., 1.1946, 1.1849, 1.1546],\n",
      "         [1.1819, 1.1522, 1.1514,  ..., 1.1940, 1.1853, 1.1629]],\n",
      "\n",
      "        [[1.1526, 1.1733, 1.1634,  ..., 1.1366, 1.1334, 1.1171],\n",
      "         [1.1465, 1.1570, 1.1507,  ..., 1.1394, 1.1335, 1.1152],\n",
      "         [1.1380, 1.1458, 1.1432,  ..., 1.1292, 1.1159, 1.0972],\n",
      "         ...,\n",
      "         [1.1840, 1.1484, 1.1663,  ..., 1.1969, 1.1961, 1.1805],\n",
      "         [1.1773, 1.1592, 1.1581,  ..., 1.1935, 1.1864, 1.1633],\n",
      "         [1.1775, 1.1519, 1.1496,  ..., 1.1883, 1.1818, 1.1663]],\n",
      "\n",
      "        ...,\n",
      "\n",
      "        [[1.1659, 1.1741, 1.1691,  ..., 1.1495, 1.1508, 1.1365],\n",
      "         [1.1652, 1.1786, 1.1706,  ..., 1.1529, 1.1466, 1.1309],\n",
      "         [1.1298, 1.1387, 1.1348,  ..., 1.1197, 1.1083, 1.0971],\n",
      "         ...,\n",
      "         [1.2417, 1.1751, 1.2156,  ..., 1.2458, 1.2514, 1.2528],\n",
      "         [1.2341, 1.1886, 1.2050,  ..., 1.2428, 1.2408, 1.2346],\n",
      "         [1.2279, 1.1790, 1.1879,  ..., 1.2224, 1.2197, 1.2192]],\n",
      "\n",
      "        [[1.1636, 1.1811, 1.1720,  ..., 1.1445, 1.1456, 1.1289],\n",
      "         [1.1653, 1.1814, 1.1723,  ..., 1.1521, 1.1457, 1.1278],\n",
      "         [1.1308, 1.1392, 1.1360,  ..., 1.1220, 1.1110, 1.0992],\n",
      "         ...,\n",
      "         [1.2367, 1.1732, 1.2139,  ..., 1.2416, 1.2442, 1.2410],\n",
      "         [1.2357, 1.1941, 1.2078,  ..., 1.2439, 1.2379, 1.2244],\n",
      "         [1.2270, 1.1809, 1.1871,  ..., 1.2214, 1.2143, 1.2096]],\n",
      "\n",
      "        [[1.0950, 1.1250, 1.1121,  ..., 1.0851, 1.0826, 1.0666],\n",
      "         [1.1065, 1.1683, 1.1405,  ..., 1.0894, 1.0762, 1.0535],\n",
      "         [1.1137, 1.1853, 1.1584,  ..., 1.0940, 1.0727, 1.0550],\n",
      "         ...,\n",
      "         [1.1526, 1.1466, 1.1652,  ..., 1.1359, 1.1400, 1.1396],\n",
      "         [1.1278, 1.1381, 1.1320,  ..., 1.1210, 1.1138, 1.1026],\n",
      "         [1.1214, 1.1115, 1.1123,  ..., 1.1115, 1.1039, 1.1054]]])\n",
      "tensor([1.1427, 1.1581, 1.1513,  ..., 1.1115, 1.1039, 1.1054])\n"
     ]
    }
   ],
   "source": [
    "print(out[1])\n",
    "print(out[1].reshape(-1))"
   ]
  },
  {
   "cell_type": "markdown",
   "id": "31623d65",
   "metadata": {},
   "source": [
    "# TimeMixer Granite IBM"
   ]
  },
  {
   "cell_type": "code",
   "execution_count": 3,
   "id": "a6458243",
   "metadata": {},
   "outputs": [],
   "source": [
    "from transformers import PatchTSMixerForPrediction\n",
    "import numpy as np\n",
    "import torch"
   ]
  },
  {
   "cell_type": "code",
   "execution_count": 4,
   "id": "76941ce9",
   "metadata": {},
   "outputs": [],
   "source": [
    "\n",
    "# Example usage of PatchTSMixerModel\n",
    "path: str = \"../data.nosync/apsync/data_engagement_10sec.npz\"\n",
    "data = np.load(path, allow_pickle=True)\n",
    "X = data[\"values\"]"
   ]
  },
  {
   "cell_type": "code",
   "execution_count": 5,
   "id": "0d61b385",
   "metadata": {},
   "outputs": [
    {
     "data": {
      "text/plain": [
       "(530, 40, 3)"
      ]
     },
     "execution_count": 5,
     "metadata": {},
     "output_type": "execute_result"
    }
   ],
   "source": [
    "X.shape"
   ]
  },
  {
   "cell_type": "code",
   "execution_count": 6,
   "id": "c9e41c8a",
   "metadata": {},
   "outputs": [
    {
     "name": "stdout",
     "output_type": "stream",
     "text": [
      "PatchTSMixerForPrediction(\n",
      "  (model): PatchTSMixerModel(\n",
      "    (encoder): PatchTSMixerEncoder(\n",
      "      (patcher): Linear(in_features=16, out_features=48, bias=True)\n",
      "      (mlp_mixer_encoder): PatchTSMixerBlock(\n",
      "        (mixers): ModuleList(\n",
      "          (0-1): 2 x PatchTSMixerLayer(\n",
      "            (patch_mixer): PatchMixerBlock(\n",
      "              (norm): PatchTSMixerNormLayer(\n",
      "                (norm): LayerNorm((48,), eps=1e-05, elementwise_affine=True)\n",
      "              )\n",
      "              (mlp): PatchTSMixerMLP(\n",
      "                (fc1): Linear(in_features=32, out_features=96, bias=True)\n",
      "                (dropout1): Dropout(p=0.5, inplace=False)\n",
      "                (fc2): Linear(in_features=96, out_features=32, bias=True)\n",
      "                (dropout2): Dropout(p=0.5, inplace=False)\n",
      "              )\n",
      "              (gating_block): PatchTSMixerGatedAttention(\n",
      "                (attn_layer): Linear(in_features=32, out_features=32, bias=True)\n",
      "                (attn_softmax): Softmax(dim=-1)\n",
      "              )\n",
      "            )\n",
      "            (feature_mixer): FeatureMixerBlock(\n",
      "              (norm): PatchTSMixerNormLayer(\n",
      "                (norm): LayerNorm((48,), eps=1e-05, elementwise_affine=True)\n",
      "              )\n",
      "              (mlp): PatchTSMixerMLP(\n",
      "                (fc1): Linear(in_features=48, out_features=144, bias=True)\n",
      "                (dropout1): Dropout(p=0.5, inplace=False)\n",
      "                (fc2): Linear(in_features=144, out_features=48, bias=True)\n",
      "                (dropout2): Dropout(p=0.5, inplace=False)\n",
      "              )\n",
      "              (gating_block): PatchTSMixerGatedAttention(\n",
      "                (attn_layer): Linear(in_features=48, out_features=48, bias=True)\n",
      "                (attn_softmax): Softmax(dim=-1)\n",
      "              )\n",
      "            )\n",
      "          )\n",
      "        )\n",
      "      )\n",
      "    )\n",
      "    (patching): PatchTSMixerPatchify()\n",
      "    (scaler): PatchTSMixerStdScaler()\n",
      "  )\n",
      "  (head): PatchTSMixerForPredictionHead(\n",
      "    (dropout_layer): Dropout(p=0.5, inplace=False)\n",
      "    (base_forecast_block): Linear(in_features=1536, out_features=96, bias=True)\n",
      "    (flatten): Flatten(start_dim=-2, end_dim=-1)\n",
      "  )\n",
      ")\n"
     ]
    }
   ],
   "source": [
    "model = PatchTSMixerForPrediction.from_pretrained(\"ibm-granite/granite-timeseries-patchtsmixer\")\n",
    "print(model)\n",
    "\n",
    "\n",
    "\n",
    "# You can now use the model for your time series tasks\n",
    "# For example, you can pass input data to the model\n",
    "# input_data = ...  # Your time series data here\n",
    "# output = model(input_data)\n",
    "# print(output)"
   ]
  },
  {
   "cell_type": "code",
   "execution_count": 7,
   "id": "81d0d460",
   "metadata": {},
   "outputs": [
    {
     "data": {
      "text/plain": [
       "(10, 40, 3)"
      ]
     },
     "execution_count": 7,
     "metadata": {},
     "output_type": "execute_result"
    }
   ],
   "source": [
    "X[:10, ...].shape"
   ]
  },
  {
   "cell_type": "code",
   "execution_count": 8,
   "id": "8733ac1a",
   "metadata": {},
   "outputs": [],
   "source": [
    "# Pad the second dimension (sequence length) to 512\n",
    "seq_len = X.shape[1]\n",
    "if seq_len < 512:\n",
    "    pad_width = ((0, 0), (0, 512 - seq_len), (0, 0))\n",
    "    X_padded = np.pad(X[:10, ...], pad_width, mode='constant')\n",
    "else:\n",
    "    X_padded = X[:10, ...]\n"
   ]
  },
  {
   "cell_type": "code",
   "execution_count": 9,
   "id": "dc4f0812",
   "metadata": {},
   "outputs": [],
   "source": [
    "X_padded = torch.tensor(X_padded, dtype=torch.float32)"
   ]
  },
  {
   "cell_type": "code",
   "execution_count": 10,
   "id": "27ad0d6e",
   "metadata": {},
   "outputs": [
    {
     "data": {
      "text/plain": [
       "torch.Size([10, 512, 3])"
      ]
     },
     "execution_count": 10,
     "metadata": {},
     "output_type": "execute_result"
    }
   ],
   "source": [
    "X_padded.shape"
   ]
  },
  {
   "cell_type": "code",
   "execution_count": 16,
   "id": "d0576c3e",
   "metadata": {},
   "outputs": [],
   "source": [
    "outputs = model(X_padded)\n",
    "latent = outputs.last_hidden_state"
   ]
  },
  {
   "cell_type": "code",
   "execution_count": null,
   "id": "a717ac0b",
   "metadata": {},
   "outputs": [],
   "source": [
    "num_real_patches = 1 + (X.shape[1] - model.config.patch_length) // model.config.patch_stride\n"
   ]
  },
  {
   "cell_type": "code",
   "execution_count": 33,
   "id": "c869ce67",
   "metadata": {},
   "outputs": [],
   "source": [
    "latent = latent.reshape(latent.shape[0], latent.shape[1], -1)"
   ]
  }
 ],
 "metadata": {
  "kernelspec": {
   "display_name": "pff",
   "language": "python",
   "name": "python3"
  },
  "language_info": {
   "codemirror_mode": {
    "name": "ipython",
    "version": 3
   },
   "file_extension": ".py",
   "mimetype": "text/x-python",
   "name": "python",
   "nbconvert_exporter": "python",
   "pygments_lexer": "ipython3",
   "version": "3.11.13"
  }
 },
 "nbformat": 4,
 "nbformat_minor": 5
}
